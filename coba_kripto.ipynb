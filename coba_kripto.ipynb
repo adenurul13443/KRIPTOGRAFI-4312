{
  "nbformat": 4,
  "nbformat_minor": 0,
  "metadata": {
    "colab": {
      "provenance": []
    },
    "kernelspec": {
      "name": "python3",
      "display_name": "Python 3"
    },
    "language_info": {
      "name": "python"
    }
  },
  "cells": [
    {
      "cell_type": "code",
      "execution_count": 5,
      "metadata": {
        "colab": {
          "base_uri": "https://localhost:8080/"
        },
        "id": "wQorBSV1r4e0",
        "outputId": "38507801-20c4-46c9-f9b2-90ce7d34ae66"
      },
      "outputs": [
        {
          "output_type": "stream",
          "name": "stdout",
          "text": [
            "Collecting pycipher\n",
            "  Downloading pycipher-0.5.2.zip (45 kB)\n",
            "\u001b[?25l     \u001b[90m━━━━━━━━━━━━━━━━━━━━━━━━━━━━━━━━━━━━━━━━\u001b[0m \u001b[32m0.0/45.5 kB\u001b[0m \u001b[31m?\u001b[0m eta \u001b[36m-:--:--\u001b[0m\r\u001b[2K     \u001b[90m━━━━━━━━━━━━━━━━━━━━━━━━━━━━━━━━━━━━━━━━\u001b[0m \u001b[32m45.5/45.5 kB\u001b[0m \u001b[31m1.4 MB/s\u001b[0m eta \u001b[36m0:00:00\u001b[0m\n",
            "\u001b[?25h  Preparing metadata (setup.py) ... \u001b[?25l\u001b[?25hdone\n",
            "Building wheels for collected packages: pycipher\n",
            "  Building wheel for pycipher (setup.py) ... \u001b[?25l\u001b[?25hdone\n",
            "  Created wheel for pycipher: filename=pycipher-0.5.2-py3-none-any.whl size=30438 sha256=b414f0c1df8ac43263c7ce7bdf712db62215814936024d5919926530ff0a427a\n",
            "  Stored in directory: /root/.cache/pip/wheels/50/6c/13/6062e31ec80d2f5cec78421bc0cff56ea7425254ac5ca1b8ff\n",
            "Successfully built pycipher\n",
            "Installing collected packages: pycipher\n",
            "Successfully installed pycipher-0.5.2\n"
          ]
        }
      ],
      "source": [
        "pip install pycipher"
      ]
    },
    {
      "cell_type": "code",
      "source": [
        "from pycipher import Vigenere\n",
        "a = Vigenere ('POLKE').encipher('DIANNUSWANTORO')\n",
        "print(a)"
      ],
      "metadata": {
        "colab": {
          "base_uri": "https://localhost:8080/"
        },
        "id": "VTW5KoQFwu6e",
        "outputId": "3efd69db-f73d-4e78-8f81-449cc9ad6781"
      },
      "execution_count": 8,
      "outputs": [
        {
          "output_type": "stream",
          "name": "stdout",
          "text": [
            "SWLXRJGHKRICCY\n"
          ]
        }
      ]
    },
    {
      "cell_type": "code",
      "source": [
        "from pycipher import Beaufort\n",
        "a = Beaufort ('POLKE').encipher('DIANNUSWANTORO')\n",
        "print(a)"
      ],
      "metadata": {
        "colab": {
          "base_uri": "https://localhost:8080/"
        },
        "id": "0waA3G_5xTBg",
        "outputId": "3d430e9c-5893-47b4-d3b4-5c2ebde02ef4"
      },
      "execution_count": 9,
      "outputs": [
        {
          "output_type": "stream",
          "name": "stdout",
          "text": [
            "MGLXRVWPKRWAUW\n"
          ]
        }
      ]
    },
    {
      "cell_type": "code",
      "source": [
        "from pycipher import Autokey\n",
        "a = Autokey ('POLKE').encipher('DIANNUSWANTORO')\n",
        "print(a)"
      ],
      "metadata": {
        "colab": {
          "base_uri": "https://localhost:8080/"
        },
        "id": "UOjJQthdxh_q",
        "outputId": "0593d097-f0d7-4363-edb3-660ff6d6440d"
      },
      "execution_count": 10,
      "outputs": [
        {
          "output_type": "stream",
          "name": "stdout",
          "text": [
            "SWLXRXAWNANGNO\n"
          ]
        }
      ]
    },
    {
      "cell_type": "code",
      "source": [
        "def encrypt_text(plaintext,n):\n",
        "    ans = \"\"\n",
        "    # iterate over the given text\n",
        "    for i in range(len(plaintext)):\n",
        "        ch = plaintext[i]\n",
        "\n",
        "        # check if space is there then simply add space\n",
        "        if ch==\" \":\n",
        "            ans+=\" \"\n",
        "        # check if a character is uppercase then encrypt it accordingly\n",
        "        elif (ch.isupper()):\n",
        "            ans += chr((ord(ch) + n-65) % 26 + 65)\n",
        "        # check if a character is lowercase then encrypt it accordingly\n",
        "\n",
        "        else:\n",
        "            ans += chr((ord(ch) + n-97) % 26 + 97)\n",
        "\n",
        "    return ans\n",
        "\n",
        "plaintext = \"HELLO EVERYONE\"\n",
        "n = 1\n",
        "print(\"Plain Text is : \" + plaintext)\n",
        "print(\"Shift pattern is : \" + str(n))\n",
        "print(\"Cipher Text is : \" + encrypt_text(plaintext,n))"
      ],
      "metadata": {
        "colab": {
          "base_uri": "https://localhost:8080/"
        },
        "id": "gSysRCX8x_kT",
        "outputId": "1d87ace8-7657-4759-e34d-bd56e49236ea"
      },
      "execution_count": 13,
      "outputs": [
        {
          "output_type": "stream",
          "name": "stdout",
          "text": [
            "Plain Text is : HELLO EVERYONE\n",
            "Shift pattern is : 1\n",
            "Cipher Text is : IFMMP FWFSZPOF\n"
          ]
        }
      ]
    },
    {
      "cell_type": "code",
      "source": [],
      "metadata": {
        "id": "bar_DKZ635RS"
      },
      "execution_count": null,
      "outputs": []
    },
    {
      "cell_type": "code",
      "source": [
        "from pycipher import Vigenere\n",
        "plain_text=input(\"Enter the message: \")\n",
        "key=input(\"Enter the key: \")\n",
        "vigenere_cipher = Vigenere (key).encipher(plain_text)\n",
        "print(\"---VIGENERE CIPHER---\")\n",
        "print(\"CIPHER TEXT : \",vigenere_cipher)\n",
        "\n",
        "from pycipher import Beaufort\n",
        "beaufort_cipher = Beaufort (key).encipher(plain_text)\n",
        "print(\"---BEAUFORT CIPHER---\")\n",
        "print(\"CIPHER TEXT : \",beaufort_cipher)"
      ],
      "metadata": {
        "colab": {
          "base_uri": "https://localhost:8080/"
        },
        "id": "d4M3JeRHw3Lr",
        "outputId": "372959b8-4758-412f-bf23-e8dcba95d44c"
      },
      "execution_count": 24,
      "outputs": [
        {
          "output_type": "stream",
          "name": "stdout",
          "text": [
            "Enter the message: DIANNUSWANTORO\n",
            "Enter the key: POLKE\n",
            "---VIGENERE CIPHER---\n",
            "CIPHER TEXT :  SWLXRJGHKRICCY\n",
            "---BEAUFORT CIPHER---\n",
            "CIPHER TEXT :  MGLXRVWPKRWAUW\n"
          ]
        }
      ]
    },
    {
      "cell_type": "code",
      "source": [
        "import string\n",
        "\n",
        "main=string.ascii_lowercase\n",
        "\n",
        "def conversion(plain_text,key):\n",
        "    index=0\n",
        "    cipher_text=\"\"\n",
        "\n",
        "    # convert into lower case\n",
        "    plain_text=plain_text.lower()\n",
        "    key=key.lower()\n",
        "\n",
        "    # For generating key, the given keyword is repeated\n",
        "    # in a circular manner until it matches the length of\n",
        "    # the plain text.\n",
        "    for c in plain_text:\n",
        "        if c in main:\n",
        "            # to get the number corresponding to the alphabet\n",
        "            off=ord(key[index])-ord('a')\n",
        "\n",
        "            # implementing algo logic here\n",
        "            encrypt_num=(ord(c)-ord('a')+off)%26\n",
        "            encrypt=chr(encrypt_num+ord('a'))\n",
        "\n",
        "            # adding into cipher text to get the encrypted message\n",
        "            cipher_text+=encrypt\n",
        "\n",
        "            # for cyclic rotation in generating key from keyword\n",
        "            index=(index+1)%len(key)\n",
        "        # to not to change spaces or any other special\n",
        "        # characters in their positions\n",
        "        else:\n",
        "            cipher_text+=c\n",
        "\n",
        "    print(\"plain text: \",plain_text)\n",
        "    print(\"cipher text: \",cipher_text)\n",
        "\n",
        "plain_text=input(\"Enter the message: \")\n",
        "key=input(\"Enter the key: \")\n",
        "\n",
        "# calling function\n",
        "conversion(plain_text,key)\n"
      ],
      "metadata": {
        "colab": {
          "base_uri": "https://localhost:8080/"
        },
        "id": "bCPbSz7C2SuU",
        "outputId": "cbf82339-5f31-4b71-928a-94b97e5b8c99"
      },
      "execution_count": 16,
      "outputs": [
        {
          "output_type": "stream",
          "name": "stdout",
          "text": [
            "Enter the message: DIANNUSWANTORO\n",
            "Enter the key: POLKE\n",
            "plain text:  DIANNUSWANTORO\n",
            "cipher text:  DIANNUSWANTORO\n"
          ]
        }
      ]
    },
    {
      "cell_type": "markdown",
      "source": [
        "Coba Bikin Menu"
      ],
      "metadata": {
        "id": "CUb7oPH_8T9b"
      }
    },
    {
      "cell_type": "code",
      "source": [
        "while True:\n",
        "    print(\"Silahkan Pilih Algoritma Berikut:\")\n",
        "    print(\"1. Vigenere Cipher\")\n",
        "    print(\"2. Beaufort Cipher\")\n",
        "    print(\"3. Autokey Cipher\")\n",
        "    print(\"4. Exit\")\n",
        "    ch = input(\"Masukkan pilihan Anda: \")\n",
        "\n",
        "    if ch == \"1\":\n",
        "        print(\"---VIGENERE CIPHER---\")\n",
        "        from pycipher import Vigenere\n",
        "        plain_text=input(\"Enter the message: \")\n",
        "        key=input(\"Enter the key: \")\n",
        "        vigenere_cipher = Vigenere (key).encipher(plain_text)\n",
        "        print(\"CIPHER TEXT : \",vigenere_cipher)\n",
        "        print(\"\\n\")\n",
        "\n",
        "    elif ch == \"2\":\n",
        "        print(\"---BEAUFORT CIPHER---\")\n",
        "        from pycipher import Beaufort\n",
        "        plain_text=input(\"Enter the message: \")\n",
        "        key=input(\"Enter the key: \")\n",
        "        beaufort_cipher = Beaufort (key).encipher(plain_text)\n",
        "        print(\"CIPHER TEXT : \",beaufort_cipher)\n",
        "        print(\"\\n\")\n",
        "\n",
        "    elif ch == \"3\":\n",
        "        print(\"---AUTOKEY CIPHER---\")\n",
        "        from pycipher import Autokey\n",
        "        plain_text=input(\"Enter the message: \")\n",
        "        key=input(\"Enter the key: \")\n",
        "        autokey_cipher = Autokey (key).encipher(plain_text)\n",
        "        print(\"CIPHER TEXT : \",autokey_cipher)\n",
        "        print(\"\\n\")\n",
        "\n",
        "    elif ch == \"4\":\n",
        "        print(\"Keluar dari Program\")\n",
        "        break\n",
        "    else:\n",
        "        print(\"Pilihan tidak valid\")"
      ],
      "metadata": {
        "colab": {
          "base_uri": "https://localhost:8080/"
        },
        "id": "2G1lvo908TOZ",
        "outputId": "412038ee-cd95-4e9c-8982-8457fdaba560"
      },
      "execution_count": 26,
      "outputs": [
        {
          "output_type": "stream",
          "name": "stdout",
          "text": [
            "Silahkan Pilih Algoritma Berikut:\n",
            "1. Vigenere Cipher\n",
            "2. Beaufort Cipher\n",
            "3. Autokey Cipher\n",
            "4. Exit\n",
            "Masukkan pilihan Anda: 1\n",
            "---VIGENERE CIPHER---\n",
            "Enter the message: DIANNUSWANTORO\n",
            "Enter the key: POLKE\n",
            "CIPHER TEXT :  SWLXRJGHKRICCY\n",
            "\n",
            "\n",
            "Silahkan Pilih Algoritma Berikut:\n",
            "1. Vigenere Cipher\n",
            "2. Beaufort Cipher\n",
            "3. Autokey Cipher\n",
            "4. Exit\n",
            "Masukkan pilihan Anda: 2\n",
            "---BEAUFORT CIPHER---\n",
            "Enter the message: DIANNUSWANTORO\n",
            "Enter the key: POLKE\n",
            "CIPHER TEXT :  MGLXRVWPKRWAUW\n",
            "\n",
            "\n",
            "Silahkan Pilih Algoritma Berikut:\n",
            "1. Vigenere Cipher\n",
            "2. Beaufort Cipher\n",
            "3. Autokey Cipher\n",
            "4. Exit\n",
            "Masukkan pilihan Anda: 3\n",
            "---AUTOKEY CIPHER---\n",
            "Enter the message: DIANNUSWANTORO\n",
            "Enter the key: POLKE\n",
            "CIPHER TEXT :  SWLXRXAWNANGNO\n",
            "\n",
            "\n",
            "Silahkan Pilih Algoritma Berikut:\n",
            "1. Vigenere Cipher\n",
            "2. Beaufort Cipher\n",
            "3. Autokey Cipher\n",
            "4. Exit\n",
            "Masukkan pilihan Anda: 4\n",
            "Keluar dari Program\n"
          ]
        }
      ]
    }
  ]
}