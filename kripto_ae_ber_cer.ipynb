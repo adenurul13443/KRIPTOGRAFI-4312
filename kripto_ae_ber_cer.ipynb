{
  "nbformat": 4,
  "nbformat_minor": 0,
  "metadata": {
    "colab": {
      "provenance": []
    },
    "kernelspec": {
      "name": "python3",
      "display_name": "Python 3"
    },
    "language_info": {
      "name": "python"
    }
  },
  "cells": [
    {
      "cell_type": "code",
      "execution_count": 10,
      "metadata": {
        "colab": {
          "base_uri": "https://localhost:8080/"
        },
        "id": "U3j2NvQjtwhV",
        "outputId": "12be0470-156c-4dad-9eb9-a71fc0cf86eb"
      },
      "outputs": [
        {
          "output_type": "stream",
          "name": "stdout",
          "text": [
            "Teks Asli: universitasdiannuswantoro_2022_jalanimambondjolno20semarangdekattugumuda\n",
            "Teks Terenkripsi: èÓÖ×ÓÙÔÝäÆåÎÞÂÜÕÖáÛÆÜÛÐàÓÈ §ÒáÂÚÕÝÛÜ¢áÉ×ÐÚÕÐ¦ Ø××ÖÓÏÕÈÒÉÐÏÛÕãËÞÎãÒÖ\n",
            "Teks Terdekripsi: universitasdiannuswantoro_2022_jalanimambondjolno20semarangdekattugumuda\n",
            "Bit Error Rate (BER): 0.0000\n",
            "Character Error Rate (CER): 0.0000\n",
            "Avalanche Effect: 0.39%\n"
          ]
        }
      ],
      "source": [
        "def vigenere_encrypt(plain_text, key):\n",
        "    encrypted_text = \"\"\n",
        "    key_length = len(key)\n",
        "    for i in range(len(plain_text)):\n",
        "        char = plain_text[i]\n",
        "        key_char = key[i % key_length]\n",
        "        encrypted_char = chr((ord(char) + ord(key_char)) % 256)\n",
        "        encrypted_text += encrypted_char\n",
        "    return encrypted_text\n",
        "\n",
        "def vigenere_decrypt(cipher_text, key):\n",
        "    decrypted_text = \"\"\n",
        "    key_length = len(key)\n",
        "    for i in range(len(cipher_text)):\n",
        "        char = cipher_text[i]\n",
        "        key_char = key[i % key_length]\n",
        "        decrypted_char = chr((ord(char) - ord(key_char)) % 256)\n",
        "        decrypted_text += decrypted_char\n",
        "    return decrypted_text\n",
        "\n",
        "def calculate_ber(original_text, decrypted_text):\n",
        "    if len(original_text) != len(decrypted_text):\n",
        "        raise ValueError(\"Panjang teks asli dan teks terdekripsi harus sama\")\n",
        "\n",
        "    num_errors = sum(1 for a, b in zip(original_text, decrypted_text) if a != b)\n",
        "    ber = num_errors / len(original_text)\n",
        "    return ber\n",
        "\n",
        "def calculate_cer(original_text, decrypted_text):\n",
        "    if len(original_text) != len(decrypted_text):\n",
        "        raise ValueError(\"Panjang teks asli dan teks terdekripsi harus sama\")\n",
        "\n",
        "    num_errors = sum(1 for a, b in zip(original_text, decrypted_text) if a != b)\n",
        "    cer = num_errors / len(original_text)\n",
        "    return cer\n",
        "\n",
        "def calculate_avalanche_effect(original_text, key):\n",
        "    encrypted_text = vigenere_encrypt(original_text, key)\n",
        "    total_changes = 0\n",
        "\n",
        "    for i in range(len(original_text)):\n",
        "        modified_text = list(original_text)\n",
        "        modified_text[i] = chr((ord(modified_text[i]) + 1) % 256)\n",
        "        modified_text = ''.join(modified_text)\n",
        "        modified_encrypted_text = vigenere_encrypt(modified_text, key)\n",
        "\n",
        "        differences = sum(1 for j in range(len(encrypted_text)) if encrypted_text[j] != modified_encrypted_text[j])\n",
        "        total_changes += differences\n",
        "\n",
        "    avalanche_effect = (total_changes / (len(original_text) * 256)) * 100  # Hitung dalam persentase\n",
        "    return avalanche_effect\n",
        "\n",
        "# Contoh penggunaan\n",
        "original_text = \"universitasdiannuswantoro_2022_jalanimambondjolno20semarangdekattugumuda\"  # Teks asli\n",
        "key = \"semangatperjuangandengandiannuswantoro2023\"  # Kunci Vigenere\n",
        "cipher_text = vigenere_encrypt(original_text, key)  # Enkripsi teks asli\n",
        "decrypted_text = vigenere_decrypt(cipher_text, key)  # Dekripsi teks terenkripsi\n",
        "\n",
        "\n",
        "ber = calculate_ber(original_text, decrypted_text)\n",
        "cer = calculate_cer(original_text, decrypted_text)\n",
        "avalanche_effect = calculate_avalanche_effect(original_text, key)\n",
        "\n",
        "print(f'Teks Asli: {original_text}')\n",
        "print(f'Teks Terenkripsi: {cipher_text}')\n",
        "print(f'Teks Terdekripsi: {decrypted_text}')\n",
        "print(f\"Bit Error Rate (BER): {ber:.4f}\")\n",
        "print(f\"Character Error Rate (CER): {cer:.4f}\")\n",
        "print(f'Avalanche Effect: {avalanche_effect:.2f}%')\n"
      ]
    }
  ]
}